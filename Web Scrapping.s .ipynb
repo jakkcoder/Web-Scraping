{
 "cells": [
  {
   "cell_type": "code",
   "execution_count": null,
   "metadata": {},
   "outputs": [],
   "source": [
    "d={}\n",
    "d[\"PNB\"]=\"https://www.moneycontrol.com/company-article/punjabnationalbank/news/PNB05#PNB05\""
   ]
  },
  {
   "cell_type": "code",
   "execution_count": 2,
   "metadata": {},
   "outputs": [],
   "source": [
    "import requests\n",
    "result = requests.get(\"https://economictimes.indiatimes.com/markets/stocks/news\")\n",
    "c=result.content"
   ]
  },
  {
   "cell_type": "code",
   "execution_count": 97,
   "metadata": {},
   "outputs": [],
   "source": [
    "## Extracting front page news form money control need to run in every 4 hrs\n",
    "\n",
    "# result = requests.get(\"https://www.moneycontrol.com/news/business/stocks/\")\n",
    "# c=result.content\n",
    "# soup = BeautifulSoup(c)\n",
    "\n",
    "# i=0\n",
    "# for articles in soup.body.find_all('li',class_=\"clearfix\"):\n",
    "#     Time=articles.span.text\n",
    "#     heading=articles.h2.a['title']\n",
    "#     detail=articles.p.text\n",
    "#     print(Time,\"|\",heading,\"|\",detail,\"\\n\")\n"
   ]
  },
  {
   "cell_type": "markdown",
   "metadata": {},
   "source": [
    " lets start with navigation to the web_page and collecting required information...."
   ]
  },
  {
   "cell_type": "code",
   "execution_count": 98,
   "metadata": {},
   "outputs": [],
   "source": [
    "# from bs4 import BeautifulSoup\n",
    "# soup = BeautifulSoup(c)\n",
    "\n",
    "# # extraxting Moneycontrol news\n",
    "# for articles in soup.body.find_all('div',class_=\"MT15 PT10 PB10\"):\n",
    "#     try:\n",
    "#         print(articles.p.text,\"|\",articles.find('div',class_=\"FL\").a.get('title'))\n",
    "#         print(\"\\n\")\n",
    "#     except:\n",
    "#         pass"
   ]
  },
  {
   "cell_type": "code",
   "execution_count": 99,
   "metadata": {},
   "outputs": [],
   "source": [
    "# ## Extracting front page news form economic times need to run in every 4 hrs\n",
    "\n",
    "# result = requests.get(\"https://economictimes.indiatimes.com/markets/stocks/news\")\n",
    "# c=result.content\n",
    "# soup = BeautifulSoup(c)\n",
    "\n",
    "\n",
    "# for articles in soup.body.find_all('div',class_=\"eachStory\"):\n",
    "#         Time=articles.time['data-time']\n",
    "#         heading=articles.h3.get_text()\n",
    "#         detail=articles.p.text\n",
    "#         print(Time,\"|\",heading,\"|\",detail,\"\\n\")\n",
    "\n",
    "        "
   ]
  },
  {
   "cell_type": "code",
   "execution_count": 100,
   "metadata": {},
   "outputs": [],
   "source": [
    "###### Economic Times Get share news\n",
    "\n",
    "# result = requests.get(\"https://economictimes.indiatimes.com/topic/Tata-Consultancy-Services-(TCS)/news\")\n",
    "# c=result.content\n",
    "# soup = BeautifulSoup(c)\n",
    "\n",
    "\n",
    "# for articles in soup.body.find_all('div',class_=\"clr flt topicstry\"):\n",
    "#         Time=articles.time.text\n",
    "#         try:\n",
    "#             heading=articles.h2.get_text()\n",
    "#         except:\n",
    "#             heading=articles.h3.get_text()\n",
    "#         detail=articles.p.text\n",
    "#         print(Time,\"|\",heading,\"|\",detail,\"\\n\")\n",
    "\n",
    "# for articles in soup.body.find_all('div',class_=\"flr topicstry\"):\n",
    "#         Time=articles.time.text\n",
    "#         try:\n",
    "#             heading=articles.h2.get_text()\n",
    "#         except:\n",
    "#             heading=articles.h3.get_text()\n",
    "#         detail=articles.p.text\n",
    "#         print(Time,\"|\",heading,\"|\",detail,\"\\n\")\n",
    "\n"
   ]
  },
  {
   "cell_type": "code",
   "execution_count": 188,
   "metadata": {},
   "outputs": [
    {
     "name": "stdout",
     "output_type": "stream",
     "text": [
      "Mahindra launches entry level variant of XUV500. Check price, new features\n",
      "Opinion | Who to sue if an algorithm loses your fortune ?\n",
      "Congress faces heat over Sam Pitroda’s remarks on 1984 riots\n",
      "The best of Salone del Mobile 2019\n",
      "SBI cuts home loan rate twice in a month\n",
      "Five emerging indie brands to watch out for\n",
      "Govt inspected Jet Airways' books after allegations of fraud\n",
      "SBI reports net profit of  ₹838 crore in Q4, misses estimates\n",
      "Lenovo launches new smartwatch HX07 EGO at  ₹1,999\n",
      "The algorithmic lace bra that won the 2019 Lexus Design Award\n",
      "Bajaj Avenger Street 160 ABS launched. Check price, features\n",
      "JLR April sales down 13.3%\n",
      "Welspun Corp board to consider share buyback, stock jumps\n",
      "Australia prints 46 million currency notes with typo\n",
      "Cheap Thrills\n",
      "Colgate India highlights the power of optimism in new campaign\n",
      "Realme X: Fingerprint scanner, AMOLED display, pop-up camera confirmed\n",
      "Rooh Afza back in retail stores: Hamdard\n",
      "Trump tariffs on China likely to cost 400,000 manufacturing jobs, says group\n",
      "Netflix partners OnePlus to launch first posters of ‘Sacred Games 2’\n"
     ]
    }
   ],
   "source": [
    "# working on livemint news.... firest pages news\n",
    "\n",
    "result = requests.get(\"https://www.livemint.com/latest-news\")\n",
    "c=result.content\n",
    "soup = BeautifulSoup(c)\n",
    "i=0\n",
    "for articles in soup.body.find_all(class_=\"headlineSec\"):\n",
    "    print(articles.a.text)\n"
   ]
  }
 ],
 "metadata": {
  "kernelspec": {
   "display_name": "Python 3",
   "language": "python",
   "name": "python3"
  },
  "language_info": {
   "codemirror_mode": {
    "name": "ipython",
    "version": 3
   },
   "file_extension": ".py",
   "mimetype": "text/x-python",
   "name": "python",
   "nbconvert_exporter": "python",
   "pygments_lexer": "ipython3",
   "version": "3.7.1"
  }
 },
 "nbformat": 4,
 "nbformat_minor": 2
}
